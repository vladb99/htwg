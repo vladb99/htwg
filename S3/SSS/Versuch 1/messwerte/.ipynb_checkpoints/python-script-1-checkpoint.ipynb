{
 "cells": [
  {
   "cell_type": "code",
   "execution_count": 1,
   "metadata": {},
   "outputs": [
    {
     "name": "stdout",
     "output_type": "stream",
     "text": [
      "1.3412132744666667\n",
      "0.021710112844964394\n"
     ]
    },
    {
     "data": {
      "text/plain": [
       "['/Users/vladb/Git/htwg/S3/SSS/Versuch 1/messwerte/m8.csv',\n",
       " '/Users/vladb/Git/htwg/S3/SSS/Versuch 1/messwerte/m9.csv',\n",
       " '/Users/vladb/Git/htwg/S3/SSS/Versuch 1/messwerte/m20.csv',\n",
       " '/Users/vladb/Git/htwg/S3/SSS/Versuch 1/messwerte/m19.csv',\n",
       " '/Users/vladb/Git/htwg/S3/SSS/Versuch 1/messwerte/m18.csv',\n",
       " '/Users/vladb/Git/htwg/S3/SSS/Versuch 1/messwerte/m1.csv',\n",
       " '/Users/vladb/Git/htwg/S3/SSS/Versuch 1/messwerte/m16.csv',\n",
       " '/Users/vladb/Git/htwg/S3/SSS/Versuch 1/messwerte/m17.csv',\n",
       " '/Users/vladb/Git/htwg/S3/SSS/Versuch 1/messwerte/m2.csv',\n",
       " '/Users/vladb/Git/htwg/S3/SSS/Versuch 1/messwerte/m15.csv',\n",
       " '/Users/vladb/Git/htwg/S3/SSS/Versuch 1/messwerte/m14.csv',\n",
       " '/Users/vladb/Git/htwg/S3/SSS/Versuch 1/messwerte/m3.csv',\n",
       " '/Users/vladb/Git/htwg/S3/SSS/Versuch 1/messwerte/m7.csv',\n",
       " '/Users/vladb/Git/htwg/S3/SSS/Versuch 1/messwerte/m10.csv',\n",
       " '/Users/vladb/Git/htwg/S3/SSS/Versuch 1/messwerte/m11.csv',\n",
       " '/Users/vladb/Git/htwg/S3/SSS/Versuch 1/messwerte/m6.csv',\n",
       " '/Users/vladb/Git/htwg/S3/SSS/Versuch 1/messwerte/m4.csv',\n",
       " '/Users/vladb/Git/htwg/S3/SSS/Versuch 1/messwerte/m13.csv',\n",
       " '/Users/vladb/Git/htwg/S3/SSS/Versuch 1/messwerte/m12.csv',\n",
       " '/Users/vladb/Git/htwg/S3/SSS/Versuch 1/messwerte/m5.csv']"
      ]
     },
     "execution_count": 1,
     "metadata": {},
     "output_type": "execute_result"
    }
   ],
   "source": [
    "import numpy as np\n",
    "import os\n",
    "import glob\n",
    "import matplotlib.pyplot as p;\n",
    "from io import StringIO\n",
    "\n",
    "data = open('m1.csv', 'r').read()\n",
    "data = np.genfromtxt(\"m1.csv\", delimiter=\",\")\n",
    "data\n",
    "\n",
    "voltage = data[1000:,4]\n",
    "voltage.shape\n",
    "\n",
    "average_voltage = voltage.mean()\n",
    "print(average_voltage)\n",
    "\n",
    "standard_deviation = np.std(voltage)\n",
    "print(standard_deviation)\n",
    "\n",
    "path = os.path.join(\"/Users/vladb/Git/htwg/S3/SSS/Versuch 1/messwerte\", \"*.csv\")\n",
    "glob.glob(path)"
   ]
  },
  {
   "cell_type": "code",
   "execution_count": 8,
   "metadata": {},
   "outputs": [
    {
     "name": "stdout",
     "output_type": "stream",
     "text": [
      "/Users/vladb/Git/htwg/S3/SSS/Versuch 1/messwerte/m8.csv\n",
      "1.3412132744666667\n",
      "/Users/vladb/Git/htwg/S3/SSS/Versuch 1/messwerte/m9.csv\n",
      "1.3412132744666667\n",
      "/Users/vladb/Git/htwg/S3/SSS/Versuch 1/messwerte/m20.csv\n",
      "1.3412132744666667\n",
      "/Users/vladb/Git/htwg/S3/SSS/Versuch 1/messwerte/m19.csv\n",
      "1.3412132744666667\n",
      "/Users/vladb/Git/htwg/S3/SSS/Versuch 1/messwerte/m18.csv\n",
      "1.3412132744666667\n",
      "/Users/vladb/Git/htwg/S3/SSS/Versuch 1/messwerte/m1.csv\n",
      "1.3412132744666667\n",
      "/Users/vladb/Git/htwg/S3/SSS/Versuch 1/messwerte/m16.csv\n",
      "1.3412132744666667\n",
      "/Users/vladb/Git/htwg/S3/SSS/Versuch 1/messwerte/m17.csv\n",
      "1.3412132744666667\n",
      "/Users/vladb/Git/htwg/S3/SSS/Versuch 1/messwerte/m2.csv\n",
      "1.3412132744666667\n",
      "/Users/vladb/Git/htwg/S3/SSS/Versuch 1/messwerte/m15.csv\n",
      "1.3412132744666667\n",
      "/Users/vladb/Git/htwg/S3/SSS/Versuch 1/messwerte/m14.csv\n",
      "1.3412132744666667\n",
      "/Users/vladb/Git/htwg/S3/SSS/Versuch 1/messwerte/m3.csv\n",
      "1.3412132744666667\n",
      "/Users/vladb/Git/htwg/S3/SSS/Versuch 1/messwerte/m7.csv\n",
      "1.3412132744666667\n",
      "/Users/vladb/Git/htwg/S3/SSS/Versuch 1/messwerte/m10.csv\n",
      "1.3412132744666667\n",
      "/Users/vladb/Git/htwg/S3/SSS/Versuch 1/messwerte/m11.csv\n",
      "1.3412132744666667\n",
      "/Users/vladb/Git/htwg/S3/SSS/Versuch 1/messwerte/m6.csv\n",
      "1.3412132744666667\n",
      "/Users/vladb/Git/htwg/S3/SSS/Versuch 1/messwerte/m4.csv\n",
      "1.3412132744666667\n",
      "/Users/vladb/Git/htwg/S3/SSS/Versuch 1/messwerte/m13.csv\n",
      "1.3412132744666667\n",
      "/Users/vladb/Git/htwg/S3/SSS/Versuch 1/messwerte/m12.csv\n",
      "1.3412132744666667\n",
      "/Users/vladb/Git/htwg/S3/SSS/Versuch 1/messwerte/m5.csv\n",
      "1.3412132744666667\n"
     ]
    },
    {
     "data": {
      "image/png": "[encoded data removed]",
      "text/plain": [
       "<Figure size 432x288 with 1 Axes>"
      ]
     },
     "metadata": {
      "needs_background": "light"
     },
     "output_type": "display_data"
    }
   ],
   "source": [
    "array_distance = [100,130,160,190,220,250,280,310,330,360,390,420,450,480,510,540,570,600,630,660]\n",
    "array_voltage_average = np.zeros(20)\n",
    "array_std = np.zeros(20)\n",
    "path = os.path.join(\"/Users/vladb/Git/htwg/S3/SSS/Versuch 1/messwerte\", \"*.csv\")\n",
    "i = 0\n",
    "\n",
    "for file in glob.glob(path):\n",
    "    voltage = np.genfromtxt(file, delimiter=\",\")\n",
    "    voltage = data[1000:,4]\n",
    "    standard_deviation = np.std(voltage)\n",
    "    array_voltage_average[i] = voltage.mean()\n",
    "    print(file)\n",
    "    print(voltage.mean())\n",
    "    i = i+1\n",
    "\n",
    "p.plot(array_distance, array_voltage_average)\n",
    "p.show()"
   ]
  },
  {
   "cell_type": "code",
   "execution_count": 22,
   "metadata": {},
   "outputs": [
    {
     "data": {
      "image/png": "[encoded data removed]",
      "text/plain": [
       "<Figure size 432x288 with 1 Axes>"
      ]
     },
     "metadata": {
      "needs_background": "light"
     },
     "output_type": "display_data"
    }
   ],
   "source": [
    "import numpy as np\n",
    "import matplotlib.pyplot as p;\n",
    "import glob\n",
    "import os;\n",
    "import re;\n",
    "\n",
    "allFiles = os.path.join(\"/Users/vladb/Git/htwg/S3/SSS/Versuch 1/messwerte\", \"*.csv\")\n",
    "\n",
    "\n",
    "arrayMean = np.zeros(20)\n",
    "arrayStd = np.zeros(20)\n",
    "arrayDistance = [100,130,160,190,220,250,280,310,330,360,390,420,450,480,510,540,570,600,630,660]\n",
    "\n",
    "allFiles = glob.glob(\"/Users/vladb/Git/htwg/S3/SSS/Versuch 1/messwerte/*.csv\")\n",
    "allFiles = sorted(allFiles, key=lambda x:float(re.findall(\"(\\d+)\",x)[0]))\n",
    "index = 0\n",
    "\n",
    "for filePath in allFiles:\n",
    "    inputData = np.genfromtxt(filePath, delimiter = ',')\n",
    "    voltage = inputData[1100:, 4]\n",
    "    arrayStd[index] = np.std(voltage)\n",
    "    arrayMean[index] = voltage.mean()\n",
    "    index = index + 1\n",
    "\n",
    "p.plot(arrayDistance,arrayMean)\n",
    "p.show()"
   ]
  },
  {
   "cell_type": "code",
   "execution_count": 23,
   "metadata": {},
   "outputs": [
    {
     "ename": "SyntaxError",
     "evalue": "(unicode error) 'unicodeescape' codec can't decode bytes in position 2-3: truncated \\UXXXXXXXX escape (<ipython-input-23-570d60ac3933>, line 6)",
     "output_type": "error",
     "traceback": [
      "\u001b[0;36m  File \u001b[0;32m\"<ipython-input-23-570d60ac3933>\"\u001b[0;36m, line \u001b[0;32m6\u001b[0m\n\u001b[0;31m    allFiles = glob.glob(\"C:\\Users\\danie\\Desktop\\SSS\\*.csv\")\u001b[0m\n\u001b[0m                        ^\u001b[0m\n\u001b[0;31mSyntaxError\u001b[0m\u001b[0;31m:\u001b[0m (unicode error) 'unicodeescape' codec can't decode bytes in position 2-3: truncated \\UXXXXXXXX escape\n"
     ]
    }
   ],
   "source": [
    "import numpy as np\n",
    "import matplotlib.pyplot as p;\n",
    "import glob\n",
    "import re\n",
    "\n",
    "allFiles = glob.glob(\"/Users/vladb/Git/htwg/S3/SSS/Versuch 1/messwerte/*.csv\")\n",
    "allFiles = sorted(allFiles, key=lambda x:float(re.findall(\"(\\d+)\",x)[0]))\n",
    "\n",
    "arrayMean = np.zeros(20)\n",
    "arrayStd = np.zeros(20)\n",
    "arrayDistance = [100,130,160,190,220,250,280,310,330,360,390,420,450,480,510,540,570,600,630,660]\n",
    "\n",
    "index = 0\n",
    "\n",
    "for filePath in allFiles:\n",
    "    inputData = np.genfromtxt(filePath, delimiter = ',')\n",
    "    voltage = inputData[1100:, 4]\n",
    "    arrayStd[index] = np.std(voltage)\n",
    "    arrayMean[index] = voltage.mean()\n",
    "    index = index + 1\n",
    "\n",
    "fig, axes = p.subplots(nrows=1, ncols=2)\n",
    "axes[0].plot(arrayDistance, arrayMean)\n",
    "axes[0].set_title(\"Average\")\n",
    "axes[0].set_ylabel(\"Voltage [V]\")\n",
    "axes[0].set_xlabel(\"Disctance [mm]\")\n",
    "axes[1].plot(arrayDistance, arrayStd)\n",
    "axes[1].set_title(\"Standard deviation\")\n",
    "axes[1].set_ylabel(\"Voltage [V]\")\n",
    "axes[1].set_xlabel(\"Disctance [mm]\")\n",
    "fig.tight_layout()"
   ]
  },
  {
   "cell_type": "code",
   "execution_count": null,
   "metadata": {},
   "outputs": [],
   "source": []
  },
  {
   "cell_type": "code",
   "execution_count": null,
   "metadata": {},
   "outputs": [],
   "source": []
  }
 ],
 "metadata": {
  "kernelspec": {
   "display_name": "Python 3",
   "language": "python",
   "name": "python3"
  },
  "language_info": {
   "codemirror_mode": {
    "name": "ipython",
    "version": 3
   },
   "file_extension": ".py",
   "mimetype": "text/x-python",
   "name": "python",
   "nbconvert_exporter": "python",
   "pygments_lexer": "ipython3",
   "version": "3.7.6"
  }
 },
 "nbformat": 4,
 "nbformat_minor": 4
}
